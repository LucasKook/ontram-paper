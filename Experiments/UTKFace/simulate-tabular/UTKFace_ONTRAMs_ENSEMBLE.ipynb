{
 "cells": [
  {
   "cell_type": "code",
   "execution_count": null,
   "metadata": {},
   "outputs": [],
   "source": [
    "# Dependencies\n",
    "import os\n",
    "import numpy as np\n",
    "import pandas as pd\n",
    "from matplotlib import pyplot as plt\n",
    "from PIL import Image\n",
    "from sklearn.metrics import confusion_matrix\n",
    "\n",
    "from keras.utils import to_categorical\n",
    "import tensorflow as tf\n",
    "from tensorflow import keras\n",
    "from tensorflow.keras import layers\n",
    "from tensorflow.keras.callbacks import ModelCheckpoint\n",
    "\n",
    "from functions.ontram import ontram\n",
    "from functions.fit_ontram import fit_ontram\n",
    "from functions.methods import predict\n",
    "\n",
    "from functions.load_UTKFace_data import load_UTKFace_data \n",
    "from functions.plot_results import plot_results\n",
    "\n",
    "os.environ['CUDA_VISIBLE_DEVICES'] = '0' # which GPU is visible\n",
    "%matplotlib inline"
   ]
  },
  {
   "cell_type": "code",
   "execution_count": null,
   "metadata": {},
   "outputs": [],
   "source": [
    "DATA_DIR = '/tf/notebooks/data/UTKFace/UTKFace/'\n",
    "OUTPUT_DIR = '/tf/notebooks/hezo/ordinal_regression/callbacks/UTKFace_ontram/'"
   ]
  },
  {
   "cell_type": "markdown",
   "metadata": {},
   "source": [
    "### Load data"
   ]
  },
  {
   "cell_type": "code",
   "execution_count": null,
   "metadata": {},
   "outputs": [],
   "source": [
    "X_train, train, X_valid, valid, X_test, test = load_UTKFace_data(DATA_DIR + 'UTKFace.h5')"
   ]
  },
  {
   "cell_type": "code",
   "execution_count": null,
   "metadata": {
    "scrolled": false
   },
   "outputs": [],
   "source": [
    "plt.hist(train.age_group, bins = 7)"
   ]
  },
  {
   "cell_type": "code",
   "execution_count": null,
   "metadata": {},
   "outputs": [],
   "source": [
    "plt.imshow(X_train[0])"
   ]
  },
  {
   "cell_type": "code",
   "execution_count": null,
   "metadata": {},
   "outputs": [],
   "source": [
    "# One hot encoding\n",
    "Y_train = to_categorical(train.age_group)\n",
    "Y_valid = to_categorical(valid.age_group)\n",
    "Y_test = to_categorical(test.age_group)\n",
    "print(Y_train.shape, Y_valid.shape, Y_test.shape)"
   ]
  },
  {
   "cell_type": "markdown",
   "metadata": {},
   "source": [
    "# ONTRAM"
   ]
  },
  {
   "cell_type": "markdown",
   "metadata": {},
   "source": [
    "### Complex intercept"
   ]
  },
  {
   "cell_type": "code",
   "execution_count": null,
   "metadata": {
    "scrolled": false
   },
   "outputs": [],
   "source": [
    "def mod_bl(y_dim, dropout_rate = 0.3):\n",
    "    in_ = keras.Input(shape = X_train.shape[1:], name = 'bl_in')\n",
    "    \n",
    "    x = layers.Convolution2D(16, (3, 3), padding = 'same')(in_)\n",
    "    x = layers.Activation('relu')(x)\n",
    "    x = layers.Dropout(dropout_rate)(x)\n",
    "    x = layers.Convolution2D(16, (3, 3), padding='same')(x)\n",
    "    x = layers.Activation('relu')(x)\n",
    "    x = layers.Dropout(dropout_rate)(x)\n",
    "    x = layers.MaxPooling2D(pool_size = (2, 2))(x)\n",
    "    \n",
    "    x = layers.Convolution2D(32, (3, 3), padding = 'same')(x)\n",
    "    x = layers.Activation('relu')(x)\n",
    "    x = layers.Dropout(dropout_rate)(x)\n",
    "    x = layers.Convolution2D(32, (3, 3), padding='same')(x)\n",
    "    x = layers.Activation('relu')(x)\n",
    "    x = layers.Dropout(dropout_rate)(x)\n",
    "    x = layers.MaxPooling2D(pool_size = (2, 2))(x)\n",
    "    \n",
    "    x = layers.Convolution2D(32, (3, 3), padding = 'same')(x)\n",
    "    x = layers.Activation('relu')(x)\n",
    "    x = layers.Dropout(dropout_rate)(x)\n",
    "    x = layers.Convolution2D(32, (3, 3), padding='same')(x)\n",
    "    x = layers.Activation('relu')(x)\n",
    "    x = layers.Dropout(dropout_rate)(x)\n",
    "    x = layers.MaxPooling2D(pool_size = (2, 2))(x)\n",
    "    \n",
    "    x = layers.Flatten()(x)\n",
    "    x = layers.Dense(500)(x)\n",
    "    x = layers.Activation('relu')(x)\n",
    "    x = layers.Dropout(dropout_rate)(x)\n",
    "    x = layers.Dense(50)(x)\n",
    "    x = layers.Activation('relu')(x)\n",
    "    x = layers.Dropout(dropout_rate)(x)\n",
    "    out_ = layers.Dense(y_dim, activation = 'linear', name = 'bl_out')(x)\n",
    "    \n",
    "    return keras.Model(inputs = in_, outputs = out_)"
   ]
  },
  {
   "cell_type": "code",
   "execution_count": null,
   "metadata": {
    "scrolled": true
   },
   "outputs": [],
   "source": [
    "# Training\n",
    "for i in range(5):\n",
    "    print('Run ', i)\n",
    "    \n",
    "    # define model\n",
    "    nn_bl = mod_bl(Y_train.shape[1]-1)\n",
    "    m = ontram(nn_bl = nn_bl, response_varying = True)\n",
    "    \n",
    "    # train\n",
    "    hist = fit_ontram(m, \n",
    "                      x_train_im = X_train, y_train = Y_train, \n",
    "                      x_test_im = X_valid, y_test = Y_valid, \n",
    "                      batch_size = 32,\n",
    "                      epochs = 30,\n",
    "                      output_dir = OUTPUT_DIR + 'RV_without_covariables/' + 'run' + str(i) + '/')\n",
    "    \n",
    "    # save history\n",
    "    dat = pd.DataFrame({'train_loss': hist['train_loss'], 'train_acc': hist['train_acc'], 'test_loss': hist['test_loss'], 'test_acc': hist['test_acc']})\n",
    "    dat.to_csv(OUTPUT_DIR + 'RV_without_covariables/' + 'run' + str(i) + '/history.csv', index = False)\n",
    "    \n",
    "    # get the best model and the predictions\n",
    "    best_model = np.where(dat.test_loss == np.min(dat.test_loss))[0][0]\n",
    "    m.model.load_weights(OUTPUT_DIR + 'RV_without_covariables/' + 'run' + str(i) + '/model-' + str(best_model) + '.hdf5')\n",
    "    pred = predict(m, bl = X_test, y = Y_test)\n",
    "    \n",
    "    # save predictions of the best model\n",
    "    out = test.join(pd.DataFrame(pred['pdf'], columns = ['p_0', 'p_1', 'p_2', 'p_3', 'p_4', 'p_5', 'p_6']))\n",
    "    out = out.join(pd.DataFrame(pred['response'], columns = ['pred']))\n",
    "    out.to_csv(OUTPUT_DIR + 'RV_without_covariables/' + 'run' + str(i) + '/test_predictions.csv', index=False)"
   ]
  },
  {
   "cell_type": "markdown",
   "metadata": {},
   "source": [
    "### Complex intercept + linear shift (covariables)"
   ]
  },
  {
   "cell_type": "code",
   "execution_count": null,
   "metadata": {},
   "outputs": [],
   "source": [
    "# to categorical\n",
    "gender_ohe = to_categorical(train.gender)[:,1:] # male reference: 0 = male, 1 = female\n",
    "race_ohe = to_categorical(train.race)[:,1:] # White reference: 0 = White, 1 = Black, 2 = Asian, 3 = Indian, 4 = Others (like Hispanic, Latino, Middle Eastern)\n",
    "X_train_gr = np.concatenate((gender_ohe, race_ohe), axis = 1)\n",
    "print(X_train_gr.shape)"
   ]
  },
  {
   "cell_type": "code",
   "execution_count": null,
   "metadata": {},
   "outputs": [],
   "source": [
    "# to categorical\n",
    "gender_ohe = to_categorical(valid.gender)[:,1:] # male reference: 0 = male, 1 = female\n",
    "race_ohe = to_categorical(valid.race)[:,1:] # White reference: 0 = White, 1 = Black, 2 = Asian, 3 = Indian, 4 = Others (like Hispanic, Latino, Middle Eastern)\n",
    "X_valid_gr = np.concatenate((gender_ohe, race_ohe), axis = 1)\n",
    "print(X_valid_gr.shape)"
   ]
  },
  {
   "cell_type": "code",
   "execution_count": null,
   "metadata": {},
   "outputs": [],
   "source": [
    "# to categorical\n",
    "gender_ohe = to_categorical(test.gender)[:,1:] # male reference: 0 = male, 1 = female\n",
    "race_ohe = to_categorical(test.race)[:,1:] # White reference: 0 = White, 1 = Black, 2 = Asian, 3 = Indian, 4 = Others (like Hispanic, Latino, Middle Eastern)\n",
    "X_test_gr = np.concatenate((gender_ohe, race_ohe), axis = 1)\n",
    "print(X_test_gr.shape)"
   ]
  },
  {
   "cell_type": "code",
   "execution_count": null,
   "metadata": {
    "scrolled": true
   },
   "outputs": [],
   "source": [
    "for i in range(5):\n",
    "    print('Run ', i)\n",
    "    \n",
    "    # define model\n",
    "    nn_bl = mod_bl(Y_train.shape[1] - 1)\n",
    "    in_ = keras.Input(shape = X_train_gr.shape[1:], name = 'x_in')\n",
    "    out_ = layers.Dense(1, activation = 'linear', name = 'x_out', use_bias = False)(in_)\n",
    "    nn_x = keras.Model(inputs = in_, outputs = out_)\n",
    "    m = ontram(nn_bl = nn_bl, nn_x = nn_x, response_varying = True)\n",
    "    \n",
    "    # train\n",
    "    hist = fit_ontram(m, \n",
    "                  x_train_im = X_train, y_train = Y_train, x_train = X_train_gr, \n",
    "                  x_test_im = X_valid, y_test = Y_valid,  x_test = X_valid_gr,\n",
    "                  batch_size = 32,\n",
    "                  epochs = 30,\n",
    "                  output_dir = OUTPUT_DIR + 'RV_with_covariables/' + 'run' + str(i) + '/')\n",
    "    \n",
    "    # save history\n",
    "    dat = pd.DataFrame({'train_loss': hist['train_loss'], 'train_acc': hist['train_acc'], 'test_loss': hist['test_loss'], 'test_acc': hist['test_acc']})\n",
    "    dat.to_csv(OUTPUT_DIR + 'RV_with_covariables/' + 'run' + str(i) + '/history.csv', index = False)\n",
    "    \n",
    "    # get the best model and the predictions\n",
    "    best_model = np.where(dat.test_loss == np.min(dat.test_loss))[0][0]\n",
    "    m.model.load_weights(OUTPUT_DIR + 'RV_with_covariables/' + 'run' + str(i) + '/model-' + str(best_model) + '.hdf5')\n",
    "    pred = predict(m, bl = X_test, x = X_test_gr, y = Y_test)\n",
    "    \n",
    "    # save predictions of the best model\n",
    "    out = test.join(pd.DataFrame(pred['pdf'], columns = ['p_0', 'p_1', 'p_2', 'p_3', 'p_4', 'p_5', 'p_6']))\n",
    "    out = out.join(pd.DataFrame(pred['response'], columns = ['pred']))\n",
    "    out.to_csv(OUTPUT_DIR + 'RV_with_covariables/' + 'run' + str(i) + '/test_predictions.csv', index=False)"
   ]
  },
  {
   "cell_type": "code",
   "execution_count": null,
   "metadata": {},
   "outputs": [],
   "source": [
    "# save the estimates\n",
    "for i in range(0,5):\n",
    "    \n",
    "    # define model\n",
    "    nn_bl = mod_bl(Y_train.shape[1] - 1)\n",
    "    in_ = keras.Input(shape = X_train_gr.shape[1:], name = 'x_in')\n",
    "    out_ = layers.Dense(1, activation = 'linear', name = 'x_out', use_bias = False)(in_)\n",
    "    nn_x = keras.Model(inputs = in_, outputs = out_)\n",
    "    m = ontram(nn_bl = nn_bl, nn_x = nn_x, response_varying = True)\n",
    "    \n",
    "    # load history to find the best model\n",
    "    dat = pd.read_csv(OUTPUT_DIR + 'RV_with_covariables/' + 'run' + str(i) + '/history.csv')\n",
    "    \n",
    "    # get the best model and the predictions\n",
    "    best_model = np.where(dat.test_loss == np.min(dat.test_loss))[0][0]\n",
    "    m.model.load_weights(OUTPUT_DIR + 'RV_with_covariables/' + 'run' + str(i) + '/model-' + str(best_model) + '.hdf5')\n",
    "    pred = predict(m, bl = X_test, x = X_test_gr, y = Y_test)\n",
    "    \n",
    "    # save betas\n",
    "    if i == 0:\n",
    "        n = len(pred[\"beta_w\"][0])\n",
    "        beta = pred[\"beta_w\"][0].reshape((n)) # make it 1D\n",
    "        dat_beta = pd.DataFrame({\"beta\": beta, \"model\": \"CI-LS_racegender\", \"run\": i}) \n",
    "    else:\n",
    "        n = len(pred[\"beta_w\"][0])\n",
    "        beta = pred[\"beta_w\"][0].reshape((n)) # make it 1D\n",
    "        dat_beta = dat_beta.append(pd.DataFrame({\"beta\": beta, \"model\": \"CI-LS_racegender\", \"run\": i}))\n",
    "\n",
    "dat_beta.to_csv(OUTPUT_DIR + 'RV_with_covariables/' + 'run' + str(i) + '/beta_estimates.csv', index=False)"
   ]
  },
  {
   "cell_type": "markdown",
   "metadata": {},
   "source": [
    "### Complex intercept + linear shift (gender)"
   ]
  },
  {
   "cell_type": "code",
   "execution_count": null,
   "metadata": {
    "scrolled": true
   },
   "outputs": [],
   "source": [
    "# to categorical\n",
    "X_train_gr = to_categorical(train.gender)[:,1:] # male reference: 0 = male, 1 = female\n",
    "print(X_train_gr.shape)"
   ]
  },
  {
   "cell_type": "code",
   "execution_count": null,
   "metadata": {},
   "outputs": [],
   "source": [
    "# to categorical\n",
    "X_valid_gr = to_categorical(valid.gender)[:,1:] # male reference: 0 = male, 1 = female\n",
    "print(X_valid_gr.shape)"
   ]
  },
  {
   "cell_type": "code",
   "execution_count": null,
   "metadata": {},
   "outputs": [],
   "source": [
    "# to categorical\n",
    "X_test_gr = to_categorical(test.gender)[:,1:] # male reference: 0 = male, 1 = female\n",
    "print(X_test_gr.shape)"
   ]
  },
  {
   "cell_type": "code",
   "execution_count": null,
   "metadata": {
    "scrolled": true
   },
   "outputs": [],
   "source": [
    "for i in range(5):\n",
    "    print('Run ', i)\n",
    "    \n",
    "    # define model\n",
    "    nn_bl = mod_bl(Y_train.shape[1] - 1)\n",
    "    in_ = keras.Input(shape = X_train_gr.shape[1:], name = 'x_in')\n",
    "    out_ = layers.Dense(1, activation = 'linear', name = 'x_out', use_bias = False)(in_)\n",
    "    nn_x = keras.Model(inputs = in_, outputs = out_)\n",
    "    m = ontram(nn_bl = nn_bl, nn_x = nn_x, response_varying = True)\n",
    "    \n",
    "    # train\n",
    "    hist = fit_ontram(m, \n",
    "                  x_train_im = X_train, y_train = Y_train, x_train = X_train_gr, \n",
    "                  x_test_im = X_valid, y_test = Y_valid,  x_test = X_valid_gr,\n",
    "                  batch_size = 32,\n",
    "                  epochs = 30,\n",
    "                  output_dir = OUTPUT_DIR + 'RV_with_gender/' + 'run' + str(i) + '/')\n",
    "    \n",
    "    # save history\n",
    "    dat = pd.DataFrame({'train_loss': hist['train_loss'], 'train_acc': hist['train_acc'], 'test_loss': hist['test_loss'], 'test_acc': hist['test_acc']})\n",
    "    dat.to_csv(OUTPUT_DIR + 'RV_with_gender/' + 'run' + str(i) + '/history.csv', index = False)\n",
    "    \n",
    "    # get the best model and the predictions\n",
    "    best_model = np.where(dat.test_loss == np.min(dat.test_loss))[0][0]\n",
    "    m.model.load_weights(OUTPUT_DIR + 'RV_with_gender/' + 'run' + str(i) + '/model-' + str(best_model) + '.hdf5')\n",
    "    pred = predict(m, bl = X_test, x = X_test_gr, y = Y_test)\n",
    "    \n",
    "    # save predictions of the best model\n",
    "    out = test.join(pd.DataFrame(pred['pdf'], columns = ['p_0', 'p_1', 'p_2', 'p_3', 'p_4', 'p_5', 'p_6']))\n",
    "    out = out.join(pd.DataFrame(pred['response'], columns = ['pred']))\n",
    "    out.to_csv(OUTPUT_DIR + 'RV_with_gender/' + 'run' + str(i) + '/test_predictions.csv', index=False)"
   ]
  },
  {
   "cell_type": "code",
   "execution_count": null,
   "metadata": {},
   "outputs": [],
   "source": [
    "for i in range(5):\n",
    "    \n",
    "    # define model\n",
    "    nn_bl = mod_bl(Y_train.shape[1] - 1)\n",
    "    in_ = keras.Input(shape = X_train_gr.shape[1:], name = 'x_in')\n",
    "    out_ = layers.Dense(1, activation = 'linear', name = 'x_out', use_bias = False)(in_)\n",
    "    nn_x = keras.Model(inputs = in_, outputs = out_)\n",
    "    m = ontram(nn_bl = nn_bl, nn_x = nn_x, response_varying = True)\n",
    "    \n",
    "    # load history to find the best model\n",
    "    dat = pd.read_csv(OUTPUT_DIR + 'RV_with_gender/' + 'run' + str(i) + '/history.csv')\n",
    "    \n",
    "    # get the best model and the predictions\n",
    "    best_model = np.where(dat.test_loss == np.min(dat.test_loss))[0][0]\n",
    "    m.model.load_weights(OUTPUT_DIR + 'RV_with_gender/' + 'run' + str(i) + '/model-' + str(best_model) + '.hdf5')\n",
    "    pred = predict(m, bl = X_test, x = X_test_gr, y = Y_test)\n",
    "    \n",
    "    # save betas\n",
    "    if i == 0:\n",
    "        n = len(pred[\"beta_w\"][0])\n",
    "        beta = pred[\"beta_w\"][0].reshape((n)) # make it 1D\n",
    "        dat_beta = pd.DataFrame({\"beta\": beta, \"model\": \"CS-LS_gender\", \"run\": i}) \n",
    "    else:\n",
    "        n = len(pred[\"beta_w\"][0])\n",
    "        beta = pred[\"beta_w\"][0].reshape((n)) # make it 1D\n",
    "        dat_beta = dat_beta.append(pd.DataFrame({\"beta\": beta, \"model\": \"CS-LS_gender\", \"run\": i}))\n",
    "\n",
    "dat_beta.to_csv(OUTPUT_DIR + 'RV_with_gender/' + 'run' + str(i) + '/beta_estimates.csv', index=False)"
   ]
  },
  {
   "cell_type": "markdown",
   "metadata": {},
   "source": [
    "### Complex intercept + linear shift (simulated data)"
   ]
  },
  {
   "cell_type": "code",
   "execution_count": null,
   "metadata": {},
   "outputs": [],
   "source": [
    "X_train_sim = np.array(train.loc[:,['x_1', 'x_2', 'x_3', 'x_4', 'x_5', 'x_6', 'x_7', 'x_8', 'x_9', 'x_10']])\n",
    "X_train_sim.shape"
   ]
  },
  {
   "cell_type": "code",
   "execution_count": null,
   "metadata": {},
   "outputs": [],
   "source": [
    "X_valid_sim = np.array(valid.loc[:,['x_1', 'x_2', 'x_3', 'x_4', 'x_5', 'x_6', 'x_7', 'x_8', 'x_9', 'x_10']])\n",
    "X_valid_sim.shape"
   ]
  },
  {
   "cell_type": "code",
   "execution_count": null,
   "metadata": {
    "scrolled": true
   },
   "outputs": [],
   "source": [
    "X_test_sim = np.array(test.loc[:,['x_1', 'x_2', 'x_3', 'x_4', 'x_5', 'x_6', 'x_7', 'x_8', 'x_9', 'x_10']])\n",
    "X_test_sim.shape"
   ]
  },
  {
   "cell_type": "code",
   "execution_count": null,
   "metadata": {},
   "outputs": [],
   "source": [
    "for i in range(5):\n",
    "    print('Run ', i)\n",
    "    \n",
    "    # define model\n",
    "    nn_bl = mod_bl(Y_train.shape[1] - 1)\n",
    "    in_ = keras.Input(shape = X_train_sim.shape[1:], name = 'x_in')\n",
    "    out_ = layers.Dense(1, activation = 'linear', name = 'x_out', use_bias = False)(in_)\n",
    "    nn_x = keras.Model(inputs = in_, outputs = out_)\n",
    "    m = ontram(nn_bl = nn_bl, nn_x = nn_x, response_varying = True)\n",
    "    \n",
    "    # train\n",
    "    hist = fit_ontram(m, \n",
    "                  x_train_im = X_train, y_train = Y_train, x_train = X_train_sim, \n",
    "                  x_test_im = X_valid, y_test = Y_valid,  x_test = X_valid_sim,\n",
    "                  batch_size = 32,\n",
    "                  epochs = 30,\n",
    "                  output_dir = OUTPUT_DIR + 'RV_with_simulated_data/' + 'run' + str(i) + '/')\n",
    "    \n",
    "    # save history\n",
    "    dat = pd.DataFrame({'train_loss': hist['train_loss'], 'train_acc': hist['train_acc'], 'test_loss': hist['test_loss'], 'test_acc': hist['test_acc']})\n",
    "    dat.to_csv(OUTPUT_DIR + 'RV_with_simulated_data/' + 'run' + str(i) + '/history.csv', index = False)\n",
    "    \n",
    "    # get the best model and the predictions\n",
    "    best_model = np.where(dat.test_loss == np.min(dat.test_loss))[0][0]\n",
    "    m.model.load_weights(OUTPUT_DIR + 'RV_with_simulated_data/' + 'run' + str(i) + '/model-' + str(best_model) + '.hdf5')\n",
    "    pred = predict(m, bl = X_test, x = X_test_sim, y = Y_test)\n",
    "    \n",
    "    # save predictions of the best model\n",
    "    out = test.join(pd.DataFrame(pred['pdf'], columns = ['p_0', 'p_1', 'p_2', 'p_3', 'p_4', 'p_5', 'p_6']))\n",
    "    out = out.join(pd.DataFrame(pred['response'], columns = ['pred']))\n",
    "    out.to_csv(OUTPUT_DIR + 'RV_with_simulated_data/' + 'run' + str(i) + '/test_predictions.csv', index=False)"
   ]
  },
  {
   "cell_type": "code",
   "execution_count": null,
   "metadata": {},
   "outputs": [],
   "source": [
    "for i in range(5):\n",
    "    \n",
    "    # define model\n",
    "    nn_bl = mod_bl(Y_train.shape[1] - 1)\n",
    "    in_ = keras.Input(shape = X_train_sim.shape[1:], name = 'x_in')\n",
    "    out_ = layers.Dense(1, activation = 'linear', name = 'x_out', use_bias = False)(in_)\n",
    "    nn_x = keras.Model(inputs = in_, outputs = out_)\n",
    "    m = ontram(nn_bl = nn_bl, nn_x = nn_x, response_varying = True)\n",
    "    \n",
    "    # load history to find the best model\n",
    "    dat = pd.read_csv(OUTPUT_DIR + 'RV_with_simulated_data/' + 'run' + str(i) + '/history.csv')\n",
    "    \n",
    "    # get the best model and the predictions\n",
    "    best_model = np.where(dat.test_loss == np.min(dat.test_loss))[0][0]\n",
    "    m.model.load_weights(OUTPUT_DIR + 'RV_with_simulated_data/' + 'run' + str(i) + '/model-' + str(best_model) + '.hdf5')\n",
    "    pred = predict(m, bl = X_test, x = X_test_sim, y = Y_test)\n",
    "    \n",
    "    # save betas\n",
    "    if i == 0:\n",
    "        n = len(pred[\"beta_w\"][0])\n",
    "        beta = pred[\"beta_w\"][0].reshape((n)) # make it 1D\n",
    "        dat_beta = pd.DataFrame({\"beta\": beta, \"model\": \"CS-LS_sim\", \"run\": i}) \n",
    "    else:\n",
    "        n = len(pred[\"beta_w\"][0])\n",
    "        beta = pred[\"beta_w\"][0].reshape((n)) # make it 1D\n",
    "        dat_beta = dat_beta.append(pd.DataFrame({\"beta\": beta, \"model\": \"CS-LS_sim\", \"run\": i}))\n",
    "\n",
    "dat_beta.to_csv(OUTPUT_DIR + 'RV_with_simulated_data/' + 'run' + str(i) + '/beta_estimates.csv', index=False)"
   ]
  },
  {
   "cell_type": "markdown",
   "metadata": {},
   "source": [
    "### Simple intercept + complex shift (image)"
   ]
  },
  {
   "cell_type": "code",
   "execution_count": null,
   "metadata": {},
   "outputs": [],
   "source": [
    "def mod_bl(y_dim):\n",
    "    nn_bl = keras.Sequential(name = \"nn_bl\")\n",
    "    nn_bl.add(keras.Input(shape = (1, ), name = \"bl_in\"))\n",
    "    nn_bl.add(layers.Dense(y_dim - 1, activation = \"linear\", use_bias = False, name = \"bl_out\"))\n",
    "    return nn_bl"
   ]
  },
  {
   "cell_type": "code",
   "execution_count": null,
   "metadata": {},
   "outputs": [],
   "source": [
    "def mod_im(dropout_rate = 0.3):\n",
    "    in_ = keras.Input(shape = X_train.shape[1:], name = 'im_in')\n",
    "    \n",
    "    x = layers.Convolution2D(16, (3, 3), padding = 'same')(in_)\n",
    "    x = layers.Activation('relu')(x)\n",
    "    x = layers.Dropout(dropout_rate)(x)\n",
    "    x = layers.Convolution2D(16, (3, 3), padding='same')(x)\n",
    "    x = layers.Activation('relu')(x)\n",
    "    x = layers.Dropout(dropout_rate)(x)\n",
    "    x = layers.MaxPooling2D(pool_size = (2, 2))(x)\n",
    "    \n",
    "    x = layers.Convolution2D(32, (3, 3), padding = 'same')(x)\n",
    "    x = layers.Activation('relu')(x)\n",
    "    x = layers.Dropout(dropout_rate)(x)\n",
    "    x = layers.Convolution2D(32, (3, 3), padding='same')(x)\n",
    "    x = layers.Activation('relu')(x)\n",
    "    x = layers.Dropout(dropout_rate)(x)\n",
    "    x = layers.MaxPooling2D(pool_size = (2, 2))(x)\n",
    "    \n",
    "    x = layers.Convolution2D(32, (3, 3), padding = 'same')(x)\n",
    "    x = layers.Activation('relu')(x)\n",
    "    x = layers.Dropout(dropout_rate)(x)\n",
    "    x = layers.Convolution2D(32, (3, 3), padding='same')(x)\n",
    "    x = layers.Activation('relu')(x)\n",
    "    x = layers.Dropout(dropout_rate)(x)\n",
    "    x = layers.MaxPooling2D(pool_size = (2, 2))(x)\n",
    "    \n",
    "    x = layers.Flatten()(x)\n",
    "    x = layers.Dense(500)(x)\n",
    "    x = layers.Activation('relu')(x)\n",
    "    x = layers.Dropout(dropout_rate)(x)\n",
    "    x = layers.Dense(50)(x)\n",
    "    x = layers.Activation('relu')(x)\n",
    "    x = layers.Dropout(dropout_rate)(x)\n",
    "    out_ = layers.Dense(1, activation = 'linear', name = 'im_out')(x)\n",
    "    \n",
    "    return keras.Model(inputs = in_, outputs = out_)"
   ]
  },
  {
   "cell_type": "code",
   "execution_count": null,
   "metadata": {
    "scrolled": true
   },
   "outputs": [],
   "source": [
    "for i in range(5):\n",
    "    print('Run ', i)\n",
    "    \n",
    "    # define model\n",
    "    nn_bl = mod_bl(Y_train.shape[1])\n",
    "    nn_im = mod_im()\n",
    "    m = ontram(nn_bl = nn_bl, nn_im = nn_im, response_varying = False)\n",
    "\n",
    "    # train\n",
    "    hist = fit_ontram(m, \n",
    "                  x_train_im = X_train, y_train = Y_train,\n",
    "                  x_test_im = X_valid, y_test = Y_valid,\n",
    "                  batch_size = 32,\n",
    "                  epochs = 30,\n",
    "                  output_dir = OUTPUT_DIR + 'CS_without_covariables/' + 'run' + str(i) + '/')\n",
    "    \n",
    "    # save history\n",
    "    dat = pd.DataFrame({'train_loss': hist['train_loss'], 'train_acc': hist['train_acc'], 'test_loss': hist['test_loss'], 'test_acc': hist['test_acc']})\n",
    "    dat.to_csv(OUTPUT_DIR + 'CS_without_covariables/' + 'run' + str(i) + '/history.csv', index = False)\n",
    "    \n",
    "    # get the best model and the predictions\n",
    "    best_model = np.where(dat.test_loss == np.min(dat.test_loss))[0][0]\n",
    "    m.model.load_weights(OUTPUT_DIR + 'CS_without_covariables/' + 'run' + str(i) + '/model-' + str(best_model) + '.hdf5')\n",
    "    pred = predict(m, x_im = X_test, y = Y_test)\n",
    "    \n",
    "    # save predictions of the best model\n",
    "    out = test.join(pd.DataFrame(pred['pdf'], columns = ['p_0', 'p_1', 'p_2', 'p_3', 'p_4', 'p_5', 'p_6']))\n",
    "    out = out.join(pd.DataFrame(pred['response'], columns = ['pred']))\n",
    "    out.to_csv(OUTPUT_DIR + 'CS_without_covariables/' + 'run' + str(i) + '/test_predictions.csv', index=False)\n",
    "    \n",
    "    # save predictions of the best model with eta\n",
    "    out = test.join(pd.DataFrame(pred['pdf'], columns = ['p_0', 'p_1', 'p_2', 'p_3', 'p_4', 'p_5', 'p_6'])).join(pd.DataFrame(pred['eta'], columns = ['eta']))\n",
    "    out = out.join(pd.DataFrame(pred['response'], columns = ['pred']))\n",
    "    out.to_csv(OUTPUT_DIR + 'CS_without_covariables/' + 'run' + str(i) + '/test_predictions_eta.csv', index=False)"
   ]
  },
  {
   "cell_type": "markdown",
   "metadata": {},
   "source": [
    "### Simple intercept + complex shift (image) + linear shift(covariables)"
   ]
  },
  {
   "cell_type": "code",
   "execution_count": null,
   "metadata": {},
   "outputs": [],
   "source": [
    "# to categorical\n",
    "gender_ohe = to_categorical(train.gender)[:,1:] # male reference: 0 = male, 1 = female\n",
    "race_ohe = to_categorical(train.race)[:,1:] # White reference: 0 = White, 1 = Black, 2 = Asian, 3 = Indian, 4 = Others (like Hispanic, Latino, Middle Eastern)\n",
    "X_train_gr = np.concatenate((gender_ohe, race_ohe), axis = 1)\n",
    "print(X_train_gr.shape)"
   ]
  },
  {
   "cell_type": "code",
   "execution_count": null,
   "metadata": {},
   "outputs": [],
   "source": [
    "# to categorical\n",
    "gender_ohe = to_categorical(valid.gender)[:,1:] # male reference: 0 = male, 1 = female\n",
    "race_ohe = to_categorical(valid.race)[:,1:] # White reference: 0 = White, 1 = Black, 2 = Asian, 3 = Indian, 4 = Others (like Hispanic, Latino, Middle Eastern)\n",
    "X_valid_gr = np.concatenate((gender_ohe, race_ohe), axis = 1)\n",
    "print(X_valid_gr.shape)"
   ]
  },
  {
   "cell_type": "code",
   "execution_count": null,
   "metadata": {},
   "outputs": [],
   "source": [
    "# to categorical\n",
    "gender_ohe = to_categorical(test.gender)[:,1:] # male reference: 0 = male, 1 = female\n",
    "race_ohe = to_categorical(test.race)[:,1:] # White reference: 0 = White, 1 = Black, 2 = Asian, 3 = Indian, 4 = Others (like Hispanic, Latino, Middle Eastern)\n",
    "X_test_gr = np.concatenate((gender_ohe, race_ohe), axis = 1)\n",
    "print(X_test_gr.shape)"
   ]
  },
  {
   "cell_type": "code",
   "execution_count": null,
   "metadata": {},
   "outputs": [],
   "source": [
    "def mod_bl(y_dim):\n",
    "    nn_bl = keras.Sequential(name = \"nn_bl\")\n",
    "    nn_bl.add(keras.Input(shape = (1, ), name = \"bl_in\"))\n",
    "    nn_bl.add(layers.Dense(y_dim - 1, activation = \"linear\", use_bias = False, name = \"bl_out\"))\n",
    "    return nn_bl"
   ]
  },
  {
   "cell_type": "code",
   "execution_count": null,
   "metadata": {},
   "outputs": [],
   "source": [
    "def mod_im(dropout_rate = 0.3):\n",
    "    in_ = keras.Input(shape = X_train.shape[1:], name = 'im_in')\n",
    "    \n",
    "    x = layers.Convolution2D(16, (3, 3), padding = 'same')(in_)\n",
    "    x = layers.Activation('relu')(x)\n",
    "    x = layers.Dropout(dropout_rate)(x)\n",
    "    x = layers.Convolution2D(16, (3, 3), padding='same')(x)\n",
    "    x = layers.Activation('relu')(x)\n",
    "    x = layers.Dropout(dropout_rate)(x)\n",
    "    x = layers.MaxPooling2D(pool_size = (2, 2))(x)\n",
    "    \n",
    "    x = layers.Convolution2D(32, (3, 3), padding = 'same')(x)\n",
    "    x = layers.Activation('relu')(x)\n",
    "    x = layers.Dropout(dropout_rate)(x)\n",
    "    x = layers.Convolution2D(32, (3, 3), padding='same')(x)\n",
    "    x = layers.Activation('relu')(x)\n",
    "    x = layers.Dropout(dropout_rate)(x)\n",
    "    x = layers.MaxPooling2D(pool_size = (2, 2))(x)\n",
    "    \n",
    "    x = layers.Convolution2D(32, (3, 3), padding = 'same')(x)\n",
    "    x = layers.Activation('relu')(x)\n",
    "    x = layers.Dropout(dropout_rate)(x)\n",
    "    x = layers.Convolution2D(32, (3, 3), padding='same')(x)\n",
    "    x = layers.Activation('relu')(x)\n",
    "    x = layers.Dropout(dropout_rate)(x)\n",
    "    x = layers.MaxPooling2D(pool_size = (2, 2))(x)\n",
    "    \n",
    "    x = layers.Flatten()(x)\n",
    "    x = layers.Dense(500)(x)\n",
    "    x = layers.Activation('relu')(x)\n",
    "    x = layers.Dropout(dropout_rate)(x)\n",
    "    x = layers.Dense(50)(x)\n",
    "    x = layers.Activation('relu')(x)\n",
    "    x = layers.Dropout(dropout_rate)(x)\n",
    "    out_ = layers.Dense(1, activation = 'linear', name = 'im_out')(x)\n",
    "    \n",
    "    return keras.Model(inputs = in_, outputs = out_)"
   ]
  },
  {
   "cell_type": "code",
   "execution_count": null,
   "metadata": {
    "scrolled": true
   },
   "outputs": [],
   "source": [
    "for i in range(5):\n",
    "    print('Run ', i)\n",
    "    \n",
    "    # define model\n",
    "    nn_bl = mod_bl(Y_train.shape[1])\n",
    "    in_ = keras.Input(shape = X_train_gr.shape[1:], name = 'x_in')\n",
    "    out_ = layers.Dense(1, activation = 'linear', name = 'x_out', use_bias = False)(in_)\n",
    "    nn_x = keras.Model(inputs = in_, outputs = out_)\n",
    "    nn_im = mod_im()\n",
    "    m = ontram(nn_bl = nn_bl, nn_im = nn_im, nn_x = nn_x, response_varying = False)\n",
    "\n",
    "    # train\n",
    "    hist = fit_ontram(m, \n",
    "                  x_train_im = X_train, y_train = Y_train, x_train = X_train_gr, \n",
    "                  x_test_im = X_valid, y_test = Y_valid, x_test = X_valid_gr,\n",
    "                  batch_size = 32,\n",
    "                  epochs = 30,\n",
    "                  output_dir = OUTPUT_DIR + 'CS_with_covariables/' + 'run' + str(i) + '/')\n",
    "    \n",
    "    # save history\n",
    "    dat = pd.DataFrame({'train_loss': hist['train_loss'], 'train_acc': hist['train_acc'], 'test_loss': hist['test_loss'], 'test_acc': hist['test_acc']})\n",
    "    dat.to_csv(OUTPUT_DIR + 'CS_with_covariables/' + 'run' + str(i) + '/history.csv', index = False)\n",
    "    \n",
    "    # get the best model and the predictions\n",
    "    best_model = np.where(dat.test_loss == np.min(dat.test_loss))[0][0]\n",
    "    m.model.load_weights(OUTPUT_DIR + 'CS_with_covariables/' + 'run' + str(i) + '/model-' + str(best_model) + '.hdf5')\n",
    "    pred = predict(m, x_im = X_test, x = X_test_gr, y = Y_test)\n",
    "    \n",
    "    # save predictions of the best model\n",
    "    out = test.join(pd.DataFrame(pred['pdf'], columns = ['p_0', 'p_1', 'p_2', 'p_3', 'p_4', 'p_5', 'p_6']))\n",
    "    out = out.join(pd.DataFrame(pred['response'], columns = ['pred']))\n",
    "    out.to_csv(OUTPUT_DIR + 'CS_with_covariables/' + 'run' + str(i) + '/test_predictions.csv', index=False)\n",
    "    \n",
    "    # save predictions of the best model\n",
    "    out = test.join(pd.DataFrame(pred['pdf'], columns = ['p_0', 'p_1', 'p_2', 'p_3', 'p_4', 'p_5', 'p_6'])).join(pd.DataFrame(pred['eta'], columns = ['eta']))\n",
    "    out = out.join(pd.DataFrame(pred['response'], columns = ['pred']))\n",
    "    out.to_csv(OUTPUT_DIR + 'CS_with_covariables/' + 'run' + str(i) + '/test_predictions_eta.csv', index=False)"
   ]
  },
  {
   "cell_type": "code",
   "execution_count": null,
   "metadata": {},
   "outputs": [],
   "source": [
    "for i in range(5):\n",
    "    \n",
    "    # define model\n",
    "    nn_bl = mod_bl(Y_train.shape[1])\n",
    "    in_ = keras.Input(shape = X_train_gr.shape[1:], name = 'x_in')\n",
    "    out_ = layers.Dense(1, activation = 'linear', name = 'x_out', use_bias = False)(in_)\n",
    "    nn_x = keras.Model(inputs = in_, outputs = out_)\n",
    "    nn_im = mod_im()\n",
    "    m = ontram(nn_bl = nn_bl, nn_im = nn_im, nn_x = nn_x, response_varying = False)\n",
    "    \n",
    "    # load history to find the best model\n",
    "    dat = pd.read_csv(OUTPUT_DIR + 'CS_with_covariables/' + 'run' + str(i) + '/history.csv')\n",
    "    \n",
    "    # get the best model and the predictions\n",
    "    best_model = np.where(dat.test_loss == np.min(dat.test_loss))[0][0]\n",
    "    m.model.load_weights(OUTPUT_DIR + 'CS_with_covariables/' + 'run' + str(i) + '/model-' + str(best_model) + '.hdf5')\n",
    "    pred = predict(m, x_im = X_test, x = X_test_gr, y = Y_test)\n",
    "    \n",
    "    # save betas\n",
    "    if i == 0:\n",
    "        n = len(pred[\"beta_w\"][0])\n",
    "        beta = pred[\"beta_w\"][0].reshape((n)) # make it 1D\n",
    "        dat_beta = pd.DataFrame({\"beta\": beta, \"model\": \"CI-CS-LS_racegender\", \"run\": i}) \n",
    "    else:\n",
    "        n = len(pred[\"beta_w\"][0])\n",
    "        beta = pred[\"beta_w\"][0].reshape((n)) # make it 1D\n",
    "        dat_beta = dat_beta.append(pd.DataFrame({\"beta\": beta, \"model\": \"CI-CS-LS_racegender\", \"run\": i}))\n",
    "\n",
    "dat_beta.to_csv(OUTPUT_DIR + 'CS_with_covariables/' + 'run' + str(i) + '/beta_estimates.csv', index=False)"
   ]
  },
  {
   "cell_type": "markdown",
   "metadata": {},
   "source": [
    "### Simple intercept + complex shift (image) + linear shift (gender)"
   ]
  },
  {
   "cell_type": "code",
   "execution_count": null,
   "metadata": {},
   "outputs": [],
   "source": [
    "# to categorical\n",
    "X_train_gr = to_categorical(train.gender)[:,1:] # male reference: 0 = male, 1 = female\n",
    "print(X_train_gr.shape)"
   ]
  },
  {
   "cell_type": "code",
   "execution_count": null,
   "metadata": {},
   "outputs": [],
   "source": [
    "# to categorical\n",
    "X_valid_gr = to_categorical(valid.gender)[:,1:] # male reference: 0 = male, 1 = female\n",
    "print(X_valid_gr.shape)"
   ]
  },
  {
   "cell_type": "code",
   "execution_count": null,
   "metadata": {},
   "outputs": [],
   "source": [
    "# to categorical\n",
    "X_test_gr = to_categorical(test.gender)[:,1:] # male reference: 0 = male, 1 = female\n",
    "print(X_test_gr.shape)"
   ]
  },
  {
   "cell_type": "code",
   "execution_count": null,
   "metadata": {},
   "outputs": [],
   "source": [
    "def mod_bl(y_dim):\n",
    "    nn_bl = keras.Sequential(name = \"nn_bl\")\n",
    "    nn_bl.add(keras.Input(shape = (1, ), name = \"bl_in\"))\n",
    "    nn_bl.add(layers.Dense(y_dim - 1, activation = \"linear\", use_bias = False, name = \"bl_out\"))\n",
    "    return nn_bl"
   ]
  },
  {
   "cell_type": "code",
   "execution_count": null,
   "metadata": {},
   "outputs": [],
   "source": [
    "def mod_im(dropout_rate = 0.3):\n",
    "    in_ = keras.Input(shape = X_train.shape[1:], name = 'im_in')\n",
    "    \n",
    "    x = layers.Convolution2D(16, (3, 3), padding = 'same')(in_)\n",
    "    x = layers.Activation('relu')(x)\n",
    "    x = layers.Dropout(dropout_rate)(x)\n",
    "    x = layers.Convolution2D(16, (3, 3), padding='same')(x)\n",
    "    x = layers.Activation('relu')(x)\n",
    "    x = layers.Dropout(dropout_rate)(x)\n",
    "    x = layers.MaxPooling2D(pool_size = (2, 2))(x)\n",
    "    \n",
    "    x = layers.Convolution2D(32, (3, 3), padding = 'same')(x)\n",
    "    x = layers.Activation('relu')(x)\n",
    "    x = layers.Dropout(dropout_rate)(x)\n",
    "    x = layers.Convolution2D(32, (3, 3), padding='same')(x)\n",
    "    x = layers.Activation('relu')(x)\n",
    "    x = layers.Dropout(dropout_rate)(x)\n",
    "    x = layers.MaxPooling2D(pool_size = (2, 2))(x)\n",
    "    \n",
    "    x = layers.Convolution2D(32, (3, 3), padding = 'same')(x)\n",
    "    x = layers.Activation('relu')(x)\n",
    "    x = layers.Dropout(dropout_rate)(x)\n",
    "    x = layers.Convolution2D(32, (3, 3), padding='same')(x)\n",
    "    x = layers.Activation('relu')(x)\n",
    "    x = layers.Dropout(dropout_rate)(x)\n",
    "    x = layers.MaxPooling2D(pool_size = (2, 2))(x)\n",
    "    \n",
    "    x = layers.Flatten()(x)\n",
    "    x = layers.Dense(500)(x)\n",
    "    x = layers.Activation('relu')(x)\n",
    "    x = layers.Dropout(dropout_rate)(x)\n",
    "    x = layers.Dense(50)(x)\n",
    "    x = layers.Activation('relu')(x)\n",
    "    x = layers.Dropout(dropout_rate)(x)\n",
    "    out_ = layers.Dense(1, activation = 'linear', name = 'im_out')(x)\n",
    "    \n",
    "    return keras.Model(inputs = in_, outputs = out_)"
   ]
  },
  {
   "cell_type": "code",
   "execution_count": null,
   "metadata": {
    "scrolled": true
   },
   "outputs": [],
   "source": [
    "for i in range(5):\n",
    "    print('Run ', i)\n",
    "    \n",
    "    # define model\n",
    "    nn_bl = mod_bl(Y_train.shape[1])\n",
    "    in_ = keras.Input(shape = X_train_gr.shape[1:], name = 'x_in')\n",
    "    out_ = layers.Dense(1, activation = 'linear', name = 'x_out', use_bias = False)(in_)\n",
    "    nn_x = keras.Model(inputs = in_, outputs = out_)\n",
    "    nn_im = mod_im()\n",
    "    m = ontram(nn_bl = nn_bl, nn_im = nn_im, nn_x = nn_x, response_varying = False)\n",
    "\n",
    "    # train\n",
    "    hist = fit_ontram(m, \n",
    "                  x_train_im = X_train, y_train = Y_train, x_train = X_train_gr, \n",
    "                  x_test_im = X_valid, y_test = Y_valid, x_test = X_valid_gr,\n",
    "                  batch_size = 32,\n",
    "                  epochs = 30,\n",
    "                  output_dir = OUTPUT_DIR + 'CS_with_gender/' + 'run' + str(i) + '/')\n",
    "    \n",
    "    # save history\n",
    "    dat = pd.DataFrame({'train_loss': hist['train_loss'], 'train_acc': hist['train_acc'], 'test_loss': hist['test_loss'], 'test_acc': hist['test_acc']})\n",
    "    dat.to_csv(OUTPUT_DIR + 'CS_with_gender/' + 'run' + str(i) + '/history.csv', index = False)\n",
    "    \n",
    "    # get the best model and the predictions\n",
    "    best_model = np.where(dat.test_loss == np.min(dat.test_loss))[0][0]\n",
    "    m.model.load_weights(OUTPUT_DIR + 'CS_with_gender/' + 'run' + str(i) + '/model-' + str(best_model) + '.hdf5')\n",
    "    pred = predict(m, x_im = X_test, x = X_test_gr, y = Y_test)\n",
    "    \n",
    "    # save predictions of the best model\n",
    "    out = test.join(pd.DataFrame(pred['pdf'], columns = ['p_0', 'p_1', 'p_2', 'p_3', 'p_4', 'p_5', 'p_6']))\n",
    "    out = out.join(pd.DataFrame(pred['response'], columns = ['pred']))\n",
    "    out.to_csv(OUTPUT_DIR + 'CS_with_gender/' + 'run' + str(i) + '/test_predictions.csv', index=False)\n",
    "    \n",
    "    # save predictions of the best model\n",
    "    out = test.join(pd.DataFrame(pred['pdf'], columns = ['p_0', 'p_1', 'p_2', 'p_3', 'p_4', 'p_5', 'p_6'])).join(pd.DataFrame(pred['eta'], columns = ['eta']))\n",
    "    out = out.join(pd.DataFrame(pred['response'], columns = ['pred']))\n",
    "    out.to_csv(OUTPUT_DIR + 'CS_with_gender/' + 'run' + str(i) + '/test_predictions_eta.csv', index=False)"
   ]
  },
  {
   "cell_type": "code",
   "execution_count": null,
   "metadata": {},
   "outputs": [],
   "source": [
    "for i in range(5):\n",
    "    \n",
    "    # define model\n",
    "    nn_bl = mod_bl(Y_train.shape[1])\n",
    "    in_ = keras.Input(shape = X_train_gr.shape[1:], name = 'x_in')\n",
    "    out_ = layers.Dense(1, activation = 'linear', name = 'x_out', use_bias = False)(in_)\n",
    "    nn_x = keras.Model(inputs = in_, outputs = out_)\n",
    "    nn_im = mod_im()\n",
    "    m = ontram(nn_bl = nn_bl, nn_im = nn_im, nn_x = nn_x, response_varying = False)\n",
    "    \n",
    "    # load history to find the best model\n",
    "    dat = pd.read_csv(OUTPUT_DIR + 'CS_with_gender/' + 'run' + str(i) + '/history.csv')\n",
    "    \n",
    "    # get the best model and the predictions\n",
    "    best_model = np.where(dat.test_loss == np.min(dat.test_loss))[0][0]\n",
    "    m.model.load_weights(OUTPUT_DIR + 'CS_with_gender/' + 'run' + str(i) + '/model-' + str(best_model) + '.hdf5')\n",
    "    pred = predict(m, x_im = X_test, x = X_test_gr, y = Y_test)\n",
    "    \n",
    "    # save betas\n",
    "    if i == 0:\n",
    "        n = len(pred[\"beta_w\"][0])\n",
    "        beta = pred[\"beta_w\"][0].reshape((n)) # make it 1D\n",
    "        dat_beta = pd.DataFrame({\"beta\": beta, \"model\": \"CI-CS-LS_gender\", \"run\": i}) \n",
    "    else:\n",
    "        n = len(pred[\"beta_w\"][0])\n",
    "        beta = pred[\"beta_w\"][0].reshape((n)) # make it 1D\n",
    "        dat_beta = dat_beta.append(pd.DataFrame({\"beta\": beta, \"model\": \"CI-CS-LS_gender\", \"run\": i}))\n",
    "\n",
    "dat_beta.to_csv(OUTPUT_DIR + 'CS_with_gender/' + 'run' + str(i) + '/beta_estimates.csv', index=False)"
   ]
  },
  {
   "cell_type": "markdown",
   "metadata": {},
   "source": [
    "### Simple intercept + complex shift (image) + linear shift(simulated data)"
   ]
  },
  {
   "cell_type": "code",
   "execution_count": null,
   "metadata": {},
   "outputs": [],
   "source": [
    "X_train_sim = np.array(train.loc[:,['x_1', 'x_2', 'x_3', 'x_4', 'x_5', 'x_6', 'x_7', 'x_8', 'x_9', 'x_10']])\n",
    "X_train_sim.shape"
   ]
  },
  {
   "cell_type": "code",
   "execution_count": null,
   "metadata": {},
   "outputs": [],
   "source": [
    "X_valid_sim = np.array(valid.loc[:,['x_1', 'x_2', 'x_3', 'x_4', 'x_5', 'x_6', 'x_7', 'x_8', 'x_9', 'x_10']])\n",
    "X_valid_sim.shape"
   ]
  },
  {
   "cell_type": "code",
   "execution_count": null,
   "metadata": {},
   "outputs": [],
   "source": [
    "X_test_sim = np.array(test.loc[:,['x_1', 'x_2', 'x_3', 'x_4', 'x_5', 'x_6', 'x_7', 'x_8', 'x_9', 'x_10']])\n",
    "X_test_sim.shape"
   ]
  },
  {
   "cell_type": "code",
   "execution_count": null,
   "metadata": {},
   "outputs": [],
   "source": [
    "def mod_bl(y_dim):\n",
    "    nn_bl = keras.Sequential(name = \"nn_bl\")\n",
    "    nn_bl.add(keras.Input(shape = (1, ), name = \"bl_in\"))\n",
    "    nn_bl.add(layers.Dense(y_dim - 1, activation = \"linear\", use_bias = False, name = \"bl_out\"))\n",
    "    return nn_bl"
   ]
  },
  {
   "cell_type": "code",
   "execution_count": null,
   "metadata": {},
   "outputs": [],
   "source": [
    "def mod_im(dropout_rate = 0.3):\n",
    "    in_ = keras.Input(shape = X_train.shape[1:], name = 'im_in')\n",
    "    \n",
    "    x = layers.Convolution2D(16, (3, 3), padding = 'same')(in_)\n",
    "    x = layers.Activation('relu')(x)\n",
    "    x = layers.Dropout(dropout_rate)(x)\n",
    "    x = layers.Convolution2D(16, (3, 3), padding='same')(x)\n",
    "    x = layers.Activation('relu')(x)\n",
    "    x = layers.Dropout(dropout_rate)(x)\n",
    "    x = layers.MaxPooling2D(pool_size = (2, 2))(x)\n",
    "    \n",
    "    x = layers.Convolution2D(32, (3, 3), padding = 'same')(x)\n",
    "    x = layers.Activation('relu')(x)\n",
    "    x = layers.Dropout(dropout_rate)(x)\n",
    "    x = layers.Convolution2D(32, (3, 3), padding='same')(x)\n",
    "    x = layers.Activation('relu')(x)\n",
    "    x = layers.Dropout(dropout_rate)(x)\n",
    "    x = layers.MaxPooling2D(pool_size = (2, 2))(x)\n",
    "    \n",
    "    x = layers.Convolution2D(32, (3, 3), padding = 'same')(x)\n",
    "    x = layers.Activation('relu')(x)\n",
    "    x = layers.Dropout(dropout_rate)(x)\n",
    "    x = layers.Convolution2D(32, (3, 3), padding='same')(x)\n",
    "    x = layers.Activation('relu')(x)\n",
    "    x = layers.Dropout(dropout_rate)(x)\n",
    "    x = layers.MaxPooling2D(pool_size = (2, 2))(x)\n",
    "    \n",
    "    x = layers.Flatten()(x)\n",
    "    x = layers.Dense(500)(x)\n",
    "    x = layers.Activation('relu')(x)\n",
    "    x = layers.Dropout(dropout_rate)(x)\n",
    "    x = layers.Dense(50)(x)\n",
    "    x = layers.Activation('relu')(x)\n",
    "    x = layers.Dropout(dropout_rate)(x)\n",
    "    out_ = layers.Dense(1, activation = 'linear', name = 'im_out')(x)\n",
    "    \n",
    "    return keras.Model(inputs = in_, outputs = out_)"
   ]
  },
  {
   "cell_type": "code",
   "execution_count": null,
   "metadata": {
    "scrolled": true
   },
   "outputs": [],
   "source": [
    "for i in range(5):\n",
    "    print('Run ', i)\n",
    "    \n",
    "    # define model\n",
    "    nn_bl = mod_bl(Y_train.shape[1])\n",
    "    in_ = keras.Input(shape = X_train_sim.shape[1:], name = 'x_in')\n",
    "    out_ = layers.Dense(1, activation = 'linear', name = 'x_out', use_bias = False)(in_)\n",
    "    nn_x = keras.Model(inputs = in_, outputs = out_)\n",
    "    nn_im = mod_im()\n",
    "    m = ontram(nn_bl = nn_bl, nn_im = nn_im, nn_x = nn_x, response_varying = False)\n",
    "\n",
    "    # train\n",
    "    hist = fit_ontram(m, \n",
    "                  x_train_im = X_train, y_train = Y_train, x_train = X_train_sim, \n",
    "                  x_test_im = X_valid, y_test = Y_valid, x_test = X_valid_sim,\n",
    "                  batch_size = 32,\n",
    "                  epochs = 30,\n",
    "                  output_dir = OUTPUT_DIR + 'CS_with_simulated_data/' + 'run' + str(i) + '/')\n",
    "    \n",
    "    # save history\n",
    "    dat = pd.DataFrame({'train_loss': hist['train_loss'], 'train_acc': hist['train_acc'], 'test_loss': hist['test_loss'], 'test_acc': hist['test_acc']})\n",
    "    dat.to_csv(OUTPUT_DIR + 'CS_with_simulated_data/' + 'run' + str(i) + '/history.csv', index = False)\n",
    "    \n",
    "    # get the best model and the predictions\n",
    "    best_model = np.where(dat.test_loss == np.min(dat.test_loss))[0][0]\n",
    "    m.model.load_weights(OUTPUT_DIR + 'CS_with_simulated_data/' + 'run' + str(i) + '/model-' + str(best_model) + '.hdf5')\n",
    "    pred = predict(m, x_im = X_test, x = X_test_sim, y = Y_test)\n",
    "    \n",
    "    # save predictions of the best model\n",
    "    out = test.join(pd.DataFrame(pred['pdf'], columns = ['p_0', 'p_1', 'p_2', 'p_3', 'p_4', 'p_5', 'p_6']))\n",
    "    out = out.join(pd.DataFrame(pred['response'], columns = ['pred']))\n",
    "    out.to_csv(OUTPUT_DIR + 'CS_with_simulated_data/' + 'run' + str(i) + '/test_predictions.csv', index=False)\n",
    "    \n",
    "    # out = test.join(pd.DataFrame(pred['pdf'], columns = ['p_0', 'p_1', 'p_2', 'p_3', 'p_4', 'p_5', 'p_6'])).join(pd.DataFrame(pred['eta'], columns = ['eta']))\n",
    "    # out = out.join(pd.DataFrame(pred['response'], columns = ['pred']))\n",
    "    # out.to_csv(OUTPUT_DIR + 'CS_with_simulated_data/' + 'run' + str(i) + '/test_predictions_eta.csv', index=False)"
   ]
  },
  {
   "cell_type": "code",
   "execution_count": null,
   "metadata": {},
   "outputs": [],
   "source": [
    "for i in range(5):\n",
    "    \n",
    "    # define model\n",
    "    nn_bl = mod_bl(Y_train.shape[1])\n",
    "    in_ = keras.Input(shape = X_train_sim.shape[1:], name = 'x_in')\n",
    "    out_ = layers.Dense(1, activation = 'linear', name = 'x_out', use_bias = False)(in_)\n",
    "    nn_x = keras.Model(inputs = in_, outputs = out_)\n",
    "    nn_im = mod_im()\n",
    "    m = ontram(nn_bl = nn_bl, nn_im = nn_im, nn_x = nn_x, response_varying = False)\n",
    "    \n",
    "    # load history to find the best model\n",
    "    dat = pd.read_csv(OUTPUT_DIR + 'CS_with_simulated_data/' + 'run' + str(i) + '/history.csv')\n",
    "    \n",
    "    # get the best model and the predictions\n",
    "    best_model = np.where(dat.test_loss == np.min(dat.test_loss))[0][0]\n",
    "    m.model.load_weights(OUTPUT_DIR + 'CS_with_simulated_data/' + 'run' + str(i) + '/model-' + str(best_model) + '.hdf5')\n",
    "    pred = predict(m, x_im = X_test, x = X_test_sim, y = Y_test)\n",
    "    \n",
    "    # save betas\n",
    "    if i == 0:\n",
    "        n = len(pred[\"beta_w\"][0])\n",
    "        beta = pred[\"beta_w\"][0].reshape((n)) # make it 1D\n",
    "        dat_beta = pd.DataFrame({\"beta\": beta, \"model\": \"CI-CS-LS_sim\", \"run\": i}) \n",
    "    else:\n",
    "        n = len(pred[\"beta_w\"][0])\n",
    "        beta = pred[\"beta_w\"][0].reshape((n)) # make it 1D\n",
    "        dat_beta = dat_beta.append(pd.DataFrame({\"beta\": beta, \"model\": \"CI-CS-LS_sim\", \"run\": i}))\n",
    "\n",
    "dat_beta.to_csv(OUTPUT_DIR + 'CS_with_simulated_data/' + 'run' + str(i) + '/beta_estimates.csv', index=False)"
   ]
  },
  {
   "cell_type": "markdown",
   "metadata": {},
   "source": [
    "### Simple intercept + linear shift (simulated data) = POLR"
   ]
  },
  {
   "cell_type": "code",
   "execution_count": null,
   "metadata": {},
   "outputs": [],
   "source": [
    "X_train_sim = np.array(train.loc[:,['x_1', 'x_2', 'x_3', 'x_4', 'x_5', 'x_6', 'x_7', 'x_8', 'x_9', 'x_10']])\n",
    "X_train_sim.shape"
   ]
  },
  {
   "cell_type": "code",
   "execution_count": null,
   "metadata": {},
   "outputs": [],
   "source": [
    "X_valid_sim = np.array(valid.loc[:,['x_1', 'x_2', 'x_3', 'x_4', 'x_5', 'x_6', 'x_7', 'x_8', 'x_9', 'x_10']])\n",
    "X_valid_sim.shape"
   ]
  },
  {
   "cell_type": "code",
   "execution_count": null,
   "metadata": {},
   "outputs": [],
   "source": [
    "X_test_sim = np.array(test.loc[:,['x_1', 'x_2', 'x_3', 'x_4', 'x_5', 'x_6', 'x_7', 'x_8', 'x_9', 'x_10']])\n",
    "X_test_sim.shape"
   ]
  },
  {
   "cell_type": "code",
   "execution_count": null,
   "metadata": {},
   "outputs": [],
   "source": [
    "def mod_bl(y_dim):\n",
    "    nn_bl = keras.Sequential(name = \"nn_bl\")\n",
    "    nn_bl.add(keras.Input(shape = (1, ), name = \"bl_in\"))\n",
    "    nn_bl.add(layers.Dense(y_dim - 1, activation = \"linear\", use_bias = False, name = \"bl_out\"))\n",
    "    return nn_bl"
   ]
  },
  {
   "cell_type": "code",
   "execution_count": null,
   "metadata": {},
   "outputs": [],
   "source": [
    "for i in range(5):\n",
    "    print('Run ', i)\n",
    "    \n",
    "    # define model\n",
    "    nn_bl = mod_bl(Y_train.shape[1])\n",
    "    in_ = keras.Input(shape = X_train_sim.shape[1:], name = 'x_in')\n",
    "    out_ = layers.Dense(1, activation = 'linear', name = 'x_out', use_bias = False)(in_)\n",
    "    nn_x = keras.Model(inputs = in_, outputs = out_)\n",
    "    m = ontram(nn_bl = nn_bl, nn_x = nn_x, response_varying = False)\n",
    "\n",
    "    # train\n",
    "    hist = fit_ontram(m, \n",
    "                  y_train = Y_train, x_train = X_train_sim, \n",
    "                  y_test = Y_valid, x_test = X_valid_sim,\n",
    "                  batch_size = 32,\n",
    "                  epochs = 200,\n",
    "                  output_dir = OUTPUT_DIR + 'simulated_data_only/' + 'run' + str(i) + '/')\n",
    "    \n",
    "    # save history\n",
    "    dat = pd.DataFrame({'train_loss': hist['train_loss'], 'train_acc': hist['train_acc'], 'test_loss': hist['test_loss'], 'test_acc': hist['test_acc']})\n",
    "    dat.to_csv(OUTPUT_DIR + 'simulated_data_only/' + 'run' + str(i) + '/history.csv', index = False)\n",
    "    pred = predict(m, x = X_test_sim, y = Y_test)\n",
    "    \n",
    "    # save predictions of the best model\n",
    "    out = test.join(pd.DataFrame(pred['pdf'], columns = ['p_0', 'p_1', 'p_2', 'p_3', 'p_4', 'p_5', 'p_6']))\n",
    "    out = out.join(pd.DataFrame(pred['response'], columns = ['pred']))\n",
    "    out.to_csv(OUTPUT_DIR + 'simulated_data_only/' + 'run' + str(i) + '/test_predictions.csv', index=False)"
   ]
  },
  {
   "cell_type": "code",
   "execution_count": null,
   "metadata": {},
   "outputs": [],
   "source": [
    "for i in range(5):\n",
    "    \n",
    "    # define model\n",
    "    nn_bl = mod_bl(Y_train.shape[1])\n",
    "    in_ = keras.Input(shape = X_train_sim.shape[1:], name = 'x_in')\n",
    "    out_ = layers.Dense(1, activation = 'linear', name = 'x_out', use_bias = False)(in_)\n",
    "    nn_x = keras.Model(inputs = in_, outputs = out_)\n",
    "    m = ontram(nn_bl = nn_bl, nn_x = nn_x, response_varying = False)\n",
    "    \n",
    "    # get the best model and the predictions\n",
    "    m.model.load_weights(OUTPUT_DIR + 'simulated_data_only/' + 'run' + str(i) + '/model-' + str(199) + '.hdf5')\n",
    "    pred = predict(m, x = X_test_sim, y = Y_test)\n",
    "    \n",
    "    # save betas\n",
    "    if i == 0:\n",
    "        n = len(pred[\"beta_w\"][0])\n",
    "        dat_beta = pd.DataFrame({\"beta\": beta, \"model\": \"SI-LS_sim\", \"run\": i}) \n",
    "    else:\n",
    "        n = len(pred[\"beta_w\"][0])\n",
    "        beta = pred[\"beta_w\"][0].reshape((n)) # make it 1D\n",
    "        dat_beta = dat_beta.append(pd.DataFrame({\"beta\": beta, \"model\": \"SI-LS_sim\", \"run\": i}))\n",
    "\n",
    "dat_beta.to_csv(OUTPUT_DIR + 'simulated_data_only/' + 'run' + str(i) + '/beta_estimates.csv', index=False)"
   ]
  },
  {
   "cell_type": "markdown",
   "metadata": {},
   "source": [
    "### Simple intercept + linear shift (covariables) = POLR"
   ]
  },
  {
   "cell_type": "code",
   "execution_count": null,
   "metadata": {},
   "outputs": [],
   "source": [
    "# to categorical\n",
    "gender_ohe = to_categorical(train.gender)[:,1:] # male reference: 0 = male, 1 = female\n",
    "race_ohe = to_categorical(train.race)[:,1:] # White reference: 0 = White, 1 = Black, 2 = Asian, 3 = Indian, 4 = Others (like Hispanic, Latino, Middle Eastern)\n",
    "X_train_gr = np.concatenate((gender_ohe, race_ohe), axis = 1)\n",
    "print(X_train_gr.shape)"
   ]
  },
  {
   "cell_type": "code",
   "execution_count": null,
   "metadata": {},
   "outputs": [],
   "source": [
    "# to categorical\n",
    "gender_ohe = to_categorical(valid.gender)[:,1:] # male reference: 0 = male, 1 = female\n",
    "race_ohe = to_categorical(valid.race)[:,1:] # White reference: 0 = White, 1 = Black, 2 = Asian, 3 = Indian, 4 = Others (like Hispanic, Latino, Middle Eastern)\n",
    "X_valid_gr = np.concatenate((gender_ohe, race_ohe), axis = 1)\n",
    "print(X_valid_gr.shape)"
   ]
  },
  {
   "cell_type": "code",
   "execution_count": null,
   "metadata": {},
   "outputs": [],
   "source": [
    "# to categorical\n",
    "gender_ohe = to_categorical(test.gender)[:,1:] # male reference: 0 = male, 1 = female\n",
    "race_ohe = to_categorical(test.race)[:,1:] # White reference: 0 = White, 1 = Black, 2 = Asian, 3 = Indian, 4 = Others (like Hispanic, Latino, Middle Eastern)\n",
    "X_test_gr = np.concatenate((gender_ohe, race_ohe), axis = 1)\n",
    "print(X_test_gr.shape)"
   ]
  },
  {
   "cell_type": "code",
   "execution_count": null,
   "metadata": {},
   "outputs": [],
   "source": [
    "def mod_bl(y_dim):\n",
    "    nn_bl = keras.Sequential(name = \"nn_bl\")\n",
    "    nn_bl.add(keras.Input(shape = (1, ), name = \"bl_in\"))\n",
    "    nn_bl.add(layers.Dense(y_dim - 1, activation = \"linear\", use_bias = False, name = \"bl_out\"))\n",
    "    return nn_bl"
   ]
  },
  {
   "cell_type": "code",
   "execution_count": null,
   "metadata": {
    "scrolled": true
   },
   "outputs": [],
   "source": [
    "for i in range(5):\n",
    "    print('Run ', i)\n",
    "    \n",
    "    # define model\n",
    "    nn_bl = mod_bl(Y_train.shape[1])\n",
    "    in_ = keras.Input(shape = X_train_gr.shape[1:], name = 'x_in')\n",
    "    out_ = layers.Dense(1, activation = 'linear', name = 'x_out', use_bias = False)(in_)\n",
    "    nn_x = keras.Model(inputs = in_, outputs = out_)\n",
    "    m = ontram(nn_bl = nn_bl, nn_x = nn_x, response_varying = False)\n",
    "\n",
    "    # train\n",
    "    hist = fit_ontram(m, \n",
    "                  y_train = Y_train, x_train = X_train_gr, \n",
    "                  y_test = Y_valid, x_test = X_valid_gr,\n",
    "                  batch_size = 32,\n",
    "                  epochs = 200,\n",
    "                  output_dir = OUTPUT_DIR + 'covariables_only/' + 'run' + str(i) + '/')\n",
    "    \n",
    "    # save history\n",
    "    dat = pd.DataFrame({'train_loss': hist['train_loss'], 'train_acc': hist['train_acc'], 'test_loss': hist['test_loss'], 'test_acc': hist['test_acc']})\n",
    "    dat.to_csv(OUTPUT_DIR + 'covariables_only/' + 'run' + str(i) + '/history.csv', index = False)\n",
    "    pred = predict(m, x = X_test_gr, y = Y_test)\n",
    "    \n",
    "    # save predictions of the best model\n",
    "    out = test.join(pd.DataFrame(pred['pdf'], columns = ['p_0', 'p_1', 'p_2', 'p_3', 'p_4', 'p_5', 'p_6']))\n",
    "    out = out.join(pd.DataFrame(pred['response'], columns = ['pred']))\n",
    "    out.to_csv(OUTPUT_DIR + 'covariables_only/' + 'run' + str(i) + '/test_predictions.csv', index=False)"
   ]
  },
  {
   "cell_type": "code",
   "execution_count": null,
   "metadata": {},
   "outputs": [],
   "source": [
    "for i in range(5):\n",
    "    \n",
    "    # define model\n",
    "    nn_bl = mod_bl(Y_train.shape[1])\n",
    "    in_ = keras.Input(shape = X_train_gr.shape[1:], name = 'x_in')\n",
    "    out_ = layers.Dense(1, activation = 'linear', name = 'x_out', use_bias = False)(in_)\n",
    "    nn_x = keras.Model(inputs = in_, outputs = out_)\n",
    "    m = ontram(nn_bl = nn_bl, nn_x = nn_x, response_varying = False)\n",
    "    \n",
    "    # get the best model and the predictions\n",
    "    m.model.load_weights(OUTPUT_DIR + 'covariables_only/' + 'run' + str(i) + '/model-' + str(199) + '.hdf5')\n",
    "    pred = predict(m, x = X_test_gr, y = Y_test)\n",
    "    \n",
    "    # save betas\n",
    "    if i == 0:\n",
    "        n = len(pred[\"beta_w\"][0])\n",
    "        dat_beta = pd.DataFrame({\"beta\": beta, \"model\": \"SI-LS_racegender\", \"run\": i}) \n",
    "    else:\n",
    "        n = len(pred[\"beta_w\"][0])\n",
    "        beta = pred[\"beta_w\"][0].reshape((n)) # make it 1D\n",
    "        dat_beta = dat_beta.append(pd.DataFrame({\"beta\": beta, \"model\": \"SI-LS_racegender\", \"run\": i}))\n",
    "\n",
    "dat_beta.to_csv(OUTPUT_DIR + 'covariables_only/' + 'run' + str(i) + '/beta_estimates.csv', index=False)"
   ]
  },
  {
   "cell_type": "markdown",
   "metadata": {},
   "source": [
    "### Simple intercept + linear shift (gender) = POLR"
   ]
  },
  {
   "cell_type": "code",
   "execution_count": null,
   "metadata": {},
   "outputs": [],
   "source": [
    "# to categorical\n",
    "X_train_gr = to_categorical(train.gender)[:,1:] # male reference: 0 = male, 1 = female\n",
    "print(X_train_gr.shape)"
   ]
  },
  {
   "cell_type": "code",
   "execution_count": null,
   "metadata": {},
   "outputs": [],
   "source": [
    "# to categorical\n",
    "X_valid_gr = to_categorical(valid.gender)[:,1:] # male reference: 0 = male, 1 = female\n",
    "print(X_valid_gr.shape)"
   ]
  },
  {
   "cell_type": "code",
   "execution_count": null,
   "metadata": {},
   "outputs": [],
   "source": [
    "# to categorical\n",
    "X_test_gr = to_categorical(test.gender)[:,1:] # male reference: 0 = male, 1 = female\n",
    "print(X_test_gr.shape)"
   ]
  },
  {
   "cell_type": "code",
   "execution_count": null,
   "metadata": {},
   "outputs": [],
   "source": [
    "def mod_bl(y_dim):\n",
    "    nn_bl = keras.Sequential(name = \"nn_bl\")\n",
    "    nn_bl.add(keras.Input(shape = (1, ), name = \"bl_in\"))\n",
    "    nn_bl.add(layers.Dense(y_dim - 1, activation = \"linear\", use_bias = False, name = \"bl_out\"))\n",
    "    return nn_bl"
   ]
  },
  {
   "cell_type": "code",
   "execution_count": null,
   "metadata": {},
   "outputs": [],
   "source": [
    "for i in range(5):\n",
    "    print('Run ', i)\n",
    "    \n",
    "    # define model\n",
    "    nn_bl = mod_bl(Y_train.shape[1])\n",
    "    in_ = keras.Input(shape = X_train_gr.shape[1:], name = 'x_in')\n",
    "    out_ = layers.Dense(1, activation = 'linear', name = 'x_out', use_bias = False)(in_)\n",
    "    nn_x = keras.Model(inputs = in_, outputs = out_)\n",
    "    m = ontram(nn_bl = nn_bl, nn_x = nn_x, response_varying = False)\n",
    "\n",
    "    # train\n",
    "    hist = fit_ontram(m, \n",
    "                  y_train = Y_train, x_train = X_train_gr, \n",
    "                  y_test = Y_valid, x_test = X_valid_gr,\n",
    "                  batch_size = 32,\n",
    "                  epochs = 200,\n",
    "                  output_dir = OUTPUT_DIR + 'gender_only/' + 'run' + str(i) + '/')\n",
    "    \n",
    "    # save history\n",
    "    dat = pd.DataFrame({'train_loss': hist['train_loss'], 'train_acc': hist['train_acc'], 'test_loss': hist['test_loss'], 'test_acc': hist['test_acc']})\n",
    "    dat.to_csv(OUTPUT_DIR + 'gender_only/' + 'run' + str(i) + '/history.csv', index = False)\n",
    "    pred = predict(m, x = X_test_gr, y = Y_test)\n",
    "    \n",
    "    # save predictions of the best model\n",
    "    out = test.join(pd.DataFrame(pred['pdf'], columns = ['p_0', 'p_1', 'p_2', 'p_3', 'p_4', 'p_5', 'p_6']))\n",
    "    out = out.join(pd.DataFrame(pred['response'], columns = ['pred']))\n",
    "    out.to_csv(OUTPUT_DIR + 'gender_only/' + 'run' + str(i) + '/test_predictions.csv', index=False)"
   ]
  },
  {
   "cell_type": "code",
   "execution_count": null,
   "metadata": {},
   "outputs": [],
   "source": [
    "for i in range(5):\n",
    "    \n",
    "    # define model\n",
    "    nn_bl = mod_bl(Y_train.shape[1])\n",
    "    in_ = keras.Input(shape = X_train_gr.shape[1:], name = 'x_in')\n",
    "    out_ = layers.Dense(1, activation = 'linear', name = 'x_out', use_bias = False)(in_)\n",
    "    nn_x = keras.Model(inputs = in_, outputs = out_)\n",
    "    m = ontram(nn_bl = nn_bl, nn_x = nn_x, response_varying = False)\n",
    "    \n",
    "    # get the best model and the predictions\n",
    "    m.model.load_weights(OUTPUT_DIR + 'gender_only/' + 'run' + str(i) + '/model-' + str(199) + '.hdf5')\n",
    "    pred = predict(m, x = X_test_gr, y = Y_test)\n",
    "    \n",
    "    # save betas\n",
    "    if i == 0:\n",
    "        n = len(pred[\"beta_w\"][0])\n",
    "        dat_beta = pd.DataFrame({\"beta\": beta, \"model\": \"SI-LS_gender\", \"run\": i}) \n",
    "    else:\n",
    "        n = len(pred[\"beta_w\"][0])\n",
    "        beta = pred[\"beta_w\"][0].reshape((n)) # make it 1D\n",
    "        dat_beta = dat_beta.append(pd.DataFrame({\"beta\": beta, \"model\": \"SI-LS_gender\", \"run\": i}))\n",
    "\n",
    "dat_beta.to_csv(OUTPUT_DIR + 'gender_only/' + 'run' + str(i) + '/beta_estimates.csv', index=False)"
   ]
  }
 ],
 "metadata": {
  "kernelspec": {
   "display_name": "Python 3",
   "language": "python",
   "name": "python3"
  },
  "language_info": {
   "codemirror_mode": {
    "name": "ipython",
    "version": 3
   },
   "file_extension": ".py",
   "mimetype": "text/x-python",
   "name": "python",
   "nbconvert_exporter": "python",
   "pygments_lexer": "ipython3",
   "version": "3.6.9"
  }
 },
 "nbformat": 4,
 "nbformat_minor": 2
}
